{
 "cells": [
  {
   "cell_type": "code",
   "execution_count": 3,
   "metadata": {},
   "outputs": [
    {
     "name": "stderr",
     "output_type": "stream",
     "text": [
      "C:\\Users\\kanza\\AppData\\Local\\Temp\\ipykernel_6156\\2250995132.py:5: DeprecationWarning: \n",
      "Pyarrow will become a required dependency of pandas in the next major release of pandas (pandas 3.0),\n",
      "(to allow more performant data types, such as the Arrow string type, and better interoperability with other libraries)\n",
      "but was not found to be installed on your system.\n",
      "If this would cause problems for you,\n",
      "please provide us feedback at https://github.com/pandas-dev/pandas/issues/54466\n",
      "        \n",
      "  import pandas as pd\n"
     ]
    }
   ],
   "source": [
    "from sklearn.model_selection import train_test_split\n",
    "from sklearn.metrics import mean_squared_error\n",
    "from sklearn.metrics.pairwise import cosine_similarity\n",
    "import gzip\n",
    "import pandas as pd\n",
    "import numpy as np"
   ]
  },
  {
   "cell_type": "code",
   "execution_count": 2,
   "metadata": {},
   "outputs": [],
   "source": [
    "with gzip.open('steam_games.json.gz', 'rt', encoding='utf-8') as f:\n",
    "    for line in f:\n",
    "        df=pd.read_json(f, lines=True)"
   ]
  },
  {
   "cell_type": "code",
   "execution_count": 3,
   "metadata": {},
   "outputs": [],
   "source": [
    "df.dropna(how='all', inplace=True)"
   ]
  },
  {
   "cell_type": "code",
   "execution_count": 4,
   "metadata": {},
   "outputs": [
    {
     "name": "stdout",
     "output_type": "stream",
     "text": [
      "<class 'pandas.core.frame.DataFrame'>\n",
      "Int64Index: 32135 entries, 88309 to 120443\n",
      "Data columns (total 13 columns):\n",
      " #   Column        Non-Null Count  Dtype  \n",
      "---  ------        --------------  -----  \n",
      " 0   publisher     24083 non-null  object \n",
      " 1   genres        28852 non-null  object \n",
      " 2   app_name      32133 non-null  object \n",
      " 3   title         30085 non-null  object \n",
      " 4   url           32135 non-null  object \n",
      " 5   release_date  30068 non-null  object \n",
      " 6   tags          31972 non-null  object \n",
      " 7   reviews_url   32133 non-null  object \n",
      " 8   specs         31465 non-null  object \n",
      " 9   price         30758 non-null  object \n",
      " 10  early_access  32135 non-null  float64\n",
      " 11  id            32133 non-null  float64\n",
      " 12  developer     28836 non-null  object \n",
      "dtypes: float64(2), object(11)\n",
      "memory usage: 3.4+ MB\n"
     ]
    }
   ],
   "source": [
    "df.info()"
   ]
  },
  {
   "cell_type": "code",
   "execution_count": 5,
   "metadata": {},
   "outputs": [],
   "source": [
    "df=df[['id','app_name','genres','tags','publisher']]"
   ]
  },
  {
   "cell_type": "code",
   "execution_count": 6,
   "metadata": {},
   "outputs": [
    {
     "name": "stderr",
     "output_type": "stream",
     "text": [
      "C:\\Users\\kanza\\AppData\\Local\\Temp\\ipykernel_2988\\953927484.py:8: FutureWarning: The default value of numeric_only in DataFrameGroupBy.sum is deprecated. In a future version, numeric_only will default to False. Either specify numeric_only or select only columns which should be valid for the function.\n",
      "  df_binary_grouped = df_binary.groupby(level=0).sum()\n"
     ]
    }
   ],
   "source": [
    "# Expandimos los géneros y las estiquétas en nuevas filas\n",
    "df_exploded = df.explode('genres').explode('tags')\n",
    "\n",
    "# Creamos columnas binarias para cada género y etiquétas\n",
    "df_binary = pd.get_dummies(df_exploded, columns=['genres', 'tags'], prefix=['genres', 'tag'])\n",
    "\n",
    "# Agrupamos por el índice original y sumamos para obtener 1 si el juego tiene el género o etiqueta, y 0 si no\n",
    "df_binary_grouped = df_binary.groupby(level=0).sum()\n",
    "\n",
    "# Combina el DataFrame binario con el original\n",
    "df_final = df.merge(df_binary_grouped, left_index=True, right_index=True, how='left')\n",
    "\n",
    "# Rellena los valores NaN con 0\n",
    "df_final = df_final.fillna(0)"
   ]
  },
  {
   "cell_type": "code",
   "execution_count": 7,
   "metadata": {},
   "outputs": [],
   "source": [
    "del(df_exploded,df_binary,df_binary_grouped,df)"
   ]
  },
  {
   "cell_type": "code",
   "execution_count": 8,
   "metadata": {},
   "outputs": [],
   "source": [
    "df_final.drop(columns=['id_y','genres','tags'], inplace=True)"
   ]
  },
  {
   "cell_type": "code",
   "execution_count": 9,
   "metadata": {},
   "outputs": [],
   "source": [
    "df_final=df_final.reset_index()"
   ]
  },
  {
   "cell_type": "code",
   "execution_count": 10,
   "metadata": {},
   "outputs": [],
   "source": [
    "df_modelo=df_final.drop(columns=['app_name','publisher'])"
   ]
  },
  {
   "cell_type": "code",
   "execution_count": 18,
   "metadata": {},
   "outputs": [
    {
     "data": {
      "text/html": [
       "<div>\n",
       "<style scoped>\n",
       "    .dataframe tbody tr th:only-of-type {\n",
       "        vertical-align: middle;\n",
       "    }\n",
       "\n",
       "    .dataframe tbody tr th {\n",
       "        vertical-align: top;\n",
       "    }\n",
       "\n",
       "    .dataframe thead th {\n",
       "        text-align: right;\n",
       "    }\n",
       "</style>\n",
       "<table border=\"1\" class=\"dataframe\">\n",
       "  <thead>\n",
       "    <tr style=\"text-align: right;\">\n",
       "      <th></th>\n",
       "      <th>index</th>\n",
       "      <th>id_x</th>\n",
       "      <th>genres_Accounting</th>\n",
       "      <th>genres_Action</th>\n",
       "      <th>genres_Adventure</th>\n",
       "      <th>genres_Animation &amp;amp; Modeling</th>\n",
       "      <th>genres_Audio Production</th>\n",
       "      <th>genres_Casual</th>\n",
       "      <th>genres_Design &amp;amp; Illustration</th>\n",
       "      <th>genres_Early Access</th>\n",
       "      <th>...</th>\n",
       "      <th>tag_Warhammer 40K</th>\n",
       "      <th>tag_Web Publishing</th>\n",
       "      <th>tag_Werewolves</th>\n",
       "      <th>tag_Western</th>\n",
       "      <th>tag_Word Game</th>\n",
       "      <th>tag_World War I</th>\n",
       "      <th>tag_World War II</th>\n",
       "      <th>tag_Wrestling</th>\n",
       "      <th>tag_Zombies</th>\n",
       "      <th>tag_e-sports</th>\n",
       "    </tr>\n",
       "  </thead>\n",
       "  <tbody>\n",
       "    <tr>\n",
       "      <th>0</th>\n",
       "      <td>88309</td>\n",
       "      <td>761140.0</td>\n",
       "      <td>0</td>\n",
       "      <td>5</td>\n",
       "      <td>0</td>\n",
       "      <td>0</td>\n",
       "      <td>0</td>\n",
       "      <td>5</td>\n",
       "      <td>0</td>\n",
       "      <td>0</td>\n",
       "      <td>...</td>\n",
       "      <td>0</td>\n",
       "      <td>0</td>\n",
       "      <td>0</td>\n",
       "      <td>0</td>\n",
       "      <td>0</td>\n",
       "      <td>0</td>\n",
       "      <td>0</td>\n",
       "      <td>0</td>\n",
       "      <td>0</td>\n",
       "      <td>0</td>\n",
       "    </tr>\n",
       "    <tr>\n",
       "      <th>1</th>\n",
       "      <td>88310</td>\n",
       "      <td>643980.0</td>\n",
       "      <td>0</td>\n",
       "      <td>0</td>\n",
       "      <td>0</td>\n",
       "      <td>0</td>\n",
       "      <td>0</td>\n",
       "      <td>0</td>\n",
       "      <td>0</td>\n",
       "      <td>0</td>\n",
       "      <td>...</td>\n",
       "      <td>0</td>\n",
       "      <td>0</td>\n",
       "      <td>0</td>\n",
       "      <td>0</td>\n",
       "      <td>0</td>\n",
       "      <td>0</td>\n",
       "      <td>0</td>\n",
       "      <td>0</td>\n",
       "      <td>0</td>\n",
       "      <td>0</td>\n",
       "    </tr>\n",
       "    <tr>\n",
       "      <th>2</th>\n",
       "      <td>88311</td>\n",
       "      <td>670290.0</td>\n",
       "      <td>0</td>\n",
       "      <td>0</td>\n",
       "      <td>0</td>\n",
       "      <td>0</td>\n",
       "      <td>0</td>\n",
       "      <td>6</td>\n",
       "      <td>0</td>\n",
       "      <td>0</td>\n",
       "      <td>...</td>\n",
       "      <td>0</td>\n",
       "      <td>0</td>\n",
       "      <td>0</td>\n",
       "      <td>0</td>\n",
       "      <td>0</td>\n",
       "      <td>0</td>\n",
       "      <td>0</td>\n",
       "      <td>0</td>\n",
       "      <td>0</td>\n",
       "      <td>0</td>\n",
       "    </tr>\n",
       "    <tr>\n",
       "      <th>3</th>\n",
       "      <td>88312</td>\n",
       "      <td>767400.0</td>\n",
       "      <td>0</td>\n",
       "      <td>3</td>\n",
       "      <td>3</td>\n",
       "      <td>0</td>\n",
       "      <td>0</td>\n",
       "      <td>3</td>\n",
       "      <td>0</td>\n",
       "      <td>0</td>\n",
       "      <td>...</td>\n",
       "      <td>0</td>\n",
       "      <td>0</td>\n",
       "      <td>0</td>\n",
       "      <td>0</td>\n",
       "      <td>0</td>\n",
       "      <td>0</td>\n",
       "      <td>0</td>\n",
       "      <td>0</td>\n",
       "      <td>0</td>\n",
       "      <td>0</td>\n",
       "    </tr>\n",
       "    <tr>\n",
       "      <th>4</th>\n",
       "      <td>88313</td>\n",
       "      <td>773570.0</td>\n",
       "      <td>0</td>\n",
       "      <td>0</td>\n",
       "      <td>0</td>\n",
       "      <td>0</td>\n",
       "      <td>0</td>\n",
       "      <td>0</td>\n",
       "      <td>0</td>\n",
       "      <td>0</td>\n",
       "      <td>...</td>\n",
       "      <td>0</td>\n",
       "      <td>0</td>\n",
       "      <td>0</td>\n",
       "      <td>0</td>\n",
       "      <td>0</td>\n",
       "      <td>0</td>\n",
       "      <td>0</td>\n",
       "      <td>0</td>\n",
       "      <td>0</td>\n",
       "      <td>0</td>\n",
       "    </tr>\n",
       "  </tbody>\n",
       "</table>\n",
       "<p>5 rows × 363 columns</p>\n",
       "</div>"
      ],
      "text/plain": [
       "   index      id_x  genres_Accounting  genres_Action  genres_Adventure  \\\n",
       "0  88309  761140.0                  0              5                 0   \n",
       "1  88310  643980.0                  0              0                 0   \n",
       "2  88311  670290.0                  0              0                 0   \n",
       "3  88312  767400.0                  0              3                 3   \n",
       "4  88313  773570.0                  0              0                 0   \n",
       "\n",
       "   genres_Animation &amp; Modeling  genres_Audio Production  genres_Casual  \\\n",
       "0                                0                        0              5   \n",
       "1                                0                        0              0   \n",
       "2                                0                        0              6   \n",
       "3                                0                        0              3   \n",
       "4                                0                        0              0   \n",
       "\n",
       "   genres_Design &amp; Illustration  genres_Early Access  ...  \\\n",
       "0                                 0                    0  ...   \n",
       "1                                 0                    0  ...   \n",
       "2                                 0                    0  ...   \n",
       "3                                 0                    0  ...   \n",
       "4                                 0                    0  ...   \n",
       "\n",
       "   tag_Warhammer 40K  tag_Web Publishing  tag_Werewolves  tag_Western  \\\n",
       "0                  0                   0               0            0   \n",
       "1                  0                   0               0            0   \n",
       "2                  0                   0               0            0   \n",
       "3                  0                   0               0            0   \n",
       "4                  0                   0               0            0   \n",
       "\n",
       "   tag_Word Game  tag_World War I  tag_World War II  tag_Wrestling  \\\n",
       "0              0                0                 0              0   \n",
       "1              0                0                 0              0   \n",
       "2              0                0                 0              0   \n",
       "3              0                0                 0              0   \n",
       "4              0                0                 0              0   \n",
       "\n",
       "   tag_Zombies  tag_e-sports  \n",
       "0            0             0  \n",
       "1            0             0  \n",
       "2            0             0  \n",
       "3            0             0  \n",
       "4            0             0  \n",
       "\n",
       "[5 rows x 363 columns]"
      ]
     },
     "execution_count": 18,
     "metadata": {},
     "output_type": "execute_result"
    }
   ],
   "source": [
    "df_modelo.head()"
   ]
  },
  {
   "cell_type": "code",
   "execution_count": 19,
   "metadata": {},
   "outputs": [],
   "source": [
    "df_modelo['id_x']=df_modelo['id_x'].astype(int)"
   ]
  },
  {
   "cell_type": "code",
   "execution_count": 20,
   "metadata": {},
   "outputs": [],
   "source": [
    "#creamos la matriz de numpy para el modelo\n",
    "recomendation_matrix = df_modelo.values\n",
    "recomendation_matrix = np.where(recomendation_matrix > 1, 1, recomendation_matrix)"
   ]
  },
  {
   "cell_type": "code",
   "execution_count": 21,
   "metadata": {},
   "outputs": [
    {
     "name": "stdout",
     "output_type": "stream",
     "text": [
      "Recomendaciones para el juego (ID 123): []\n"
     ]
    }
   ],
   "source": [
    "def build_recommendation_dict(df, matrix):\n",
    "    # Dividimos la matriz en submatrices más pequeñas\n",
    "    sub_len = 1000\n",
    "    sub_matrices = [matrix[i:i+sub_len] for i in range(0, len(matrix), sub_len)]\n",
    "\n",
    "    # Inicializamos la matriz de similitud del coseno\n",
    "    cosine_sim = np.zeros((len(matrix), len(matrix)))\n",
    "\n",
    "    # Calculamos la similitud del coseno para cada submatriz y actualizar la matriz\n",
    "    for sub_matriz1 in sub_matrices:\n",
    "        for sub_matriz2 in sub_matrices:\n",
    "            sim_matriz = cosine_similarity(sub_matriz1, sub_matriz2)\n",
    "            cosine_sim[:len(sub_matriz1), :len(sub_matriz2)] += sim_matriz\n",
    "\n",
    "    # Creamos un diccionario para almacenar las recomendaciones\n",
    "    recommendations_dict = {}\n",
    "\n",
    "    # Calculamos y almacenamos las recomendaciones para cada juego\n",
    "    for game_id in df['id_x']:\n",
    "        game_row = df[df['id_x'] == game_id].index[0]\n",
    "\n",
    "        # Obtenemos las recomendacioespara el juego dado\n",
    "        sim_scores = list(enumerate(cosine_sim[game_row]))\n",
    "\n",
    "        # Ordenamos por similitud descendente\n",
    "        sim_scores = sorted(sim_scores, key=lambda x: x[1], reverse=True)\n",
    "\n",
    "        # Filtramos el item para evitar la recomendación del mismo item\n",
    "        sim_scores = [(index, score) for index, score in sim_scores if index != game_row]\n",
    "\n",
    "        # Obtenemos los índices de los juegos recomendados\n",
    "        recommended_indices = [index for index, _ in sim_scores[:5]]\n",
    "\n",
    "        # Obtenemos los id de los juegos recomendados\n",
    "        recommended_ids = df.loc[recommended_indices, 'id_x'].tolist()\n",
    "\n",
    "        # Almacenamos las recomendaciones en el diccionario\n",
    "        recommendations_dict[game_id] = recommended_ids\n",
    "\n",
    "    return recommendations_dict\n",
    "\n",
    "# Construimos el diccionario de recomendaciones\n",
    "recommendations_dict = build_recommendation_dict(df_final, recomendation_matrix)\n",
    "\n",
    "game_to_recommend_id = 123\n",
    "recommendations = recommendations_dict.get(game_to_recommend_id, [])\n",
    "print(f\"Recomendaciones para el juego (ID {game_to_recommend_id}): {recommendations}\")\n",
    "\n"
   ]
  },
  {
   "cell_type": "code",
   "execution_count": 23,
   "metadata": {},
   "outputs": [],
   "source": [
    "recomendaciones = pd.DataFrame(list(recommendations_dict.items()), columns=['game_id','recommendations'])"
   ]
  },
  {
   "cell_type": "code",
   "execution_count": 25,
   "metadata": {},
   "outputs": [],
   "source": [
    "recomendaciones['game_id']=recomendaciones['game_id'].astype(int)"
   ]
  },
  {
   "cell_type": "code",
   "execution_count": 27,
   "metadata": {},
   "outputs": [],
   "source": [
    "recomendaciones.to_csv('recomendaciones.csv', index=False)"
   ]
  },
  {
   "cell_type": "code",
   "execution_count": 29,
   "metadata": {},
   "outputs": [
    {
     "name": "stdout",
     "output_type": "stream",
     "text": [
      "Recomendaciones para el juego (ID 16868): [773120.0, 213390.0, 55370.0, 108200.0, 97106.0]\n"
     ]
    }
   ],
   "source": [
    "game_to_recommend_id = 16868  # Reemplaza con el id real del juego\n",
    "recommendations = recommendations_dict.get(game_to_recommend_id, [])\n",
    "print(f\"Recomendaciones para el juego (ID {game_to_recommend_id}): {recommendations}\")"
   ]
  },
  {
   "cell_type": "code",
   "execution_count": 34,
   "metadata": {},
   "outputs": [],
   "source": [
    "del(df_final,df_modelo)"
   ]
  },
  {
   "cell_type": "code",
   "execution_count": 35,
   "metadata": {},
   "outputs": [],
   "source": [
    "del(recommendations,recommendations_dict,recomendation_matrix)"
   ]
  }
 ],
 "metadata": {
  "kernelspec": {
   "display_name": "Python 3",
   "language": "python",
   "name": "python3"
  },
  "language_info": {
   "codemirror_mode": {
    "name": "ipython",
    "version": 3
   },
   "file_extension": ".py",
   "mimetype": "text/x-python",
   "name": "python",
   "nbconvert_exporter": "python",
   "pygments_lexer": "ipython3",
   "version": "3.9.13"
  }
 },
 "nbformat": 4,
 "nbformat_minor": 2
}
